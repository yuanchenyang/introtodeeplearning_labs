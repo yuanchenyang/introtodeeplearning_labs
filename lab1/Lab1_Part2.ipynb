{
 "cells": [
  {
   "cell_type": "markdown",
   "metadata": {
    "ein.tags": [
     "worksheet-0"
    ],
    "slideshow": {
     "slide_type": "-"
    }
   },
   "source": [
    "# Lab 1 : Intro to TensorFlow and Music Generation with RNNs\n",
    "\n",
    "# Part 2: Music Generation with RNNs\n",
    "\n",
    "In this portion of the lab, we will play around with building a Recurrent Neural Network (RNN) for music generation. We will be using the MIDI music toolkit. Please run the following cell to confirm that you have the `midi` package, which allows us to use the MIDI music tools in Python."
   ]
  },
  {
   "cell_type": "code",
   "execution_count": 0,
   "metadata": {
    "autoscroll": "json-false",
    "collapsed": false,
    "ein.tags": [
     "worksheet-0"
    ],
    "slideshow": {
     "slide_type": "-"
    }
   },
   "outputs": [],
   "source": [
    "from matplotlib import pyplot as plt\n",
    "%matplotlib inline"
   ]
  },
  {
   "cell_type": "code",
   "execution_count": 0,
   "metadata": {
    "autoscroll": "json-false",
    "collapsed": false,
    "ein.tags": [
     "worksheet-0"
    ],
    "slideshow": {
     "slide_type": "-"
    }
   },
   "outputs": [],
   "source": [
    "!pip install python-midi"
   ]
  },
  {
   "cell_type": "markdown",
   "metadata": {
    "ein.tags": [
     "worksheet-0"
    ],
    "slideshow": {
     "slide_type": "-"
    }
   },
   "source": [
    "## 2.1 Dependencies and Dataset\n",
    "Here are the relevant packages and data we'll need for this lab. We decided to code the dataset cleaning and creation for you, which you can find in `create_dataset.py` and `midi_manipulation.py` if you're curious.\n",
    "\n",
    "### 2.1.1 Dependencies"
   ]
  },
  {
   "cell_type": "code",
   "execution_count": 0,
   "metadata": {
    "autoscroll": "json-false",
    "collapsed": false,
    "ein.tags": [
     "worksheet-0"
    ],
    "slideshow": {
     "slide_type": "-"
    }
   },
   "outputs": [],
   "source": [
    "import tensorflow as tf\n",
    "from tensorflow.contrib import rnn\n",
    "import numpy as np\n",
    "\n",
    "from util.util import print_progress\n",
    "from util.create_dataset import create_dataset, get_batch, make_one_hot_notes\n",
    "from util.midi_manipulation import noteStateMatrixToMidi\n",
    "\n",
    "def get_song_list(min_length):\n",
    "    songs = glob.glob('data/*.mid*')\n",
    "    output = []\n",
    "    discarded = 0\n",
    "    for song in songs:\n",
    "        es = make_one_hot_notes(mm.midiToNoteStateMatrix(song))\n",
    "        if len(es) >= min_length:\n",
    "            output.append(song)\n",
    "    return output"
   ]
  },
  {
   "cell_type": "markdown",
   "metadata": {
    "ein.tags": [
     "worksheet-0"
    ],
    "slideshow": {
     "slide_type": "-"
    }
   },
   "source": [
    "### 2.1.2 The Dataset\n",
    "The dataset for this lab will be taken from the `data/` folder within `lab1`. The dataset we have downloaded is a set of pop song snippets. If you double-click any of the MIDI files, you can open them with a music playing app such as GarageBand (Mac) or [MuseScore](https://musescore.org/en)."
   ]
  },
  {
   "cell_type": "code",
   "execution_count": 0,
   "metadata": {
    "autoscroll": "json-false",
    "collapsed": false,
    "ein.tags": [
     "worksheet-0"
    ],
    "slideshow": {
     "slide_type": "-"
    }
   },
   "outputs": [],
   "source": [
    "min_song_length  = 128\n",
    "encoded_songs    = create_dataset(min_song_length)\n",
    "song_list = get_song_list(min_song_length)"
   ]
  },
  {
   "cell_type": "markdown",
   "metadata": {
    "ein.tags": [
     "worksheet-0"
    ],
    "slideshow": {
     "slide_type": "-"
    }
   },
   "source": [
    "The dataset is a list of `np.array`s, one for each song. Each song should have the shape `(song_length, num_possible_notes)`, where `song_length >= min_song_length`. The individual feature vectors of the notes in the song are processed into a [one-hot](https://en.wikipedia.org/wiki/One-hot) encoding, meaning that they are binary vectors where one and only one entry is `1`."
   ]
  },
  {
   "cell_type": "code",
   "execution_count": 0,
   "metadata": {
    "autoscroll": "json-false",
    "collapsed": false,
    "ein.tags": [
     "worksheet-0"
    ],
    "slideshow": {
     "slide_type": "-"
    }
   },
   "outputs": [],
   "source": [
    "NUM_SONGS = len(encoded_songs)\n",
    "print(str(NUM_SONGS) + \" total songs to learn from\")\n",
    "print(encoded_songs[0].shape)"
   ]
  },
  {
   "cell_type": "code",
   "execution_count": 0,
   "metadata": {
    "autoscroll": "json-false",
    "collapsed": false,
    "ein.tags": [
     "worksheet-0"
    ],
    "slideshow": {
     "slide_type": "-"
    }
   },
   "outputs": [],
   "source": [
    "plt.imshow(encoded_songs[41].T)"
   ]
  },
  {
   "cell_type": "markdown",
   "metadata": {
    "ein.tags": [
     "worksheet-0"
    ],
    "slideshow": {
     "slide_type": "-"
    }
   },
   "source": [
    "## 2.2 The Recurrent Neural Network (RNN) Model\n",
    "\n",
    "We will now define and train a RNN model on our music dataset, and then use that trained model to generate a new song. We will train our RNN using batches of song snippets from our dataset.\n",
    "\n",
    "This model will be based off a single LSTM cell, with a state vector used to maintain temporal dependencies between consecutive music notes. At each time step, we feed in a sequence of previous notes. The final output of the LSTM (i.e., of the last unit) is fed in to a single fully connected layer to output a probability distribution over the next note. In this way, we model the probability distribution\n",
    "\n",
    "$$ P(x_t\\vert x_{t-L},\\cdots,x_{t-1})$$\n",
    "\n",
    "where $x_t$ is a one-hot encoding of the note played at timestep $t$ and $L$ is the length of a song snippet, as shown in the diagram below.\n",
    "\n",
    "<img src=\"img/lab1ngram.png\" alt=\"Drawing\" style=\"width: 50em;\"/>\n",
    "\n",
    "\n",
    "### 2.2.1 Neural Network Parameters\n",
    "Here, we define the relevant parameters for our model:\n",
    "\n",
    "* `input_size` and `output_size` are defined to match the shape of the **encoded** inputs and outputs at each timestep. Recall that the encoded representation of each song  has shape `(song_length, num_possible_notes)`, with the notes played at each timestep encoded as a binary vector over all possible notes. The parameters `input_size` and `output_size` will reflect the length of this vector encoding -- the number of possible notes.\n",
    "* `hidden_size` is the number of states in our LSTM and the size of the hidden layer we will have after our LSTM.\n",
    "* The `learning_rate` of the model should be somewhere between `1e-4` and `0.1`.\n",
    "* `training_steps` is the number of batches we will use.\n",
    "* The `batch_size` is the number of song snippets we use per batch.\n",
    "* To train the model, we will be choosing snippets of length `timesteps` from each song. This ensures that all song snippets have the same length and speeds up training.\n",
    "\n",
    "**We encourage you to experiment with different hyperparameters to see which performs the best!**"
   ]
  },
  {
   "cell_type": "code",
   "execution_count": 0,
   "metadata": {
    "autoscroll": "json-false",
    "collapsed": false,
    "ein.tags": [
     "worksheet-0"
    ],
    "slideshow": {
     "slide_type": "-"
    }
   },
   "outputs": [],
   "source": [
    "## Neural Network Parameters\n",
    "input_size       = encoded_songs[0].shape[1]   # The number of possible MIDI Notes\n",
    "output_size      = input_size                  # Same as input size\n",
    "hidden_size      = 256                         # Number of neurons in hidden layer\n",
    "\n",
    "learning_rate    = 0.001 # Learning rate of the model\n",
    "training_steps   = 1000    # Number of batches during training\n",
    "batch_size       = 128    # Number of songs per batch\n",
    "timesteps        = 64    # Length of song snippet -- this is what is fed into the model\n",
    "\n",
    "assert timesteps <= min_song_length"
   ]
  },
  {
   "cell_type": "markdown",
   "metadata": {
    "ein.tags": [
     "worksheet-0"
    ],
    "slideshow": {
     "slide_type": "-"
    }
   },
   "source": [
    "### 2.2.2 Model Initialization\n",
    "Now, we will start building our model. Our model will need to make use of the TensorFlow graphs we talked about in Part 1 of this lab. Before we start building a graph, we need to define some placeholders and initialize weights.\n",
    "\n",
    "We first define `tf.placeholder` variables (with `float` as the `dtype`) for the input and output tensors, `output_vec`.\n",
    "* The input tensors will be used to hold the song snippet batches used during training. They will be 3-dimensional, with dimensions:\n",
    "    1. The size of the batch (use `None` to let it handle any batch size)\n",
    "    2. The number of time steps in a song snippet\n",
    "    3. The number of possible MIDI notes\n",
    "* The output tensors will be used to hold the **single note** that immediately follows a song snippet provided in the input tensor, for each song snippet in the training batch. So, they will be 2-dimensional, with dimensions:\n",
    "    1. The size of the batch (`None` as with the input tensors)\n",
    "    2. The number of possible MIDI notes\n",
    "\n",
    "Next, we have to initialize the weights and biases of the fully connected layer after the LSTM. The convention for defining such weights and biases is with a dictionary, so that you can name each layer. Since we only have one layer after the LSTM, we can just define the weights and biases with two individual `tf.Variable`s. We initialize by sampling from a Normal distribution using `tf.random_normal`."
   ]
  },
  {
   "cell_type": "code",
   "execution_count": 0,
   "metadata": {
    "autoscroll": "json-false",
    "collapsed": false,
    "ein.tags": [
     "worksheet-0"
    ],
    "slideshow": {
     "slide_type": "-"
    }
   },
   "outputs": [],
   "source": [
    "input_placeholder_shape = [None, timesteps, input_size]\n",
    "output_placeholder_shape = [None, output_size]\n",
    "\n",
    "input_vec  = tf.placeholder(\"float\", input_placeholder_shape)\n",
    "output_vec = tf.placeholder(\"float\", output_placeholder_shape)\n",
    "\n",
    "# Define weights\n",
    "weights = tf.Variable(tf.random_normal([hidden_size, output_size]))\n",
    "\n",
    "'''TODO: Define biases by sampling from a Normal distribution.'''\n",
    "biases = tf.Variable(tf.random_normal([output_size]))"
   ]
  },
  {
   "cell_type": "markdown",
   "metadata": {
    "ein.tags": [
     "worksheet-0"
    ],
    "slideshow": {
     "slide_type": "-"
    }
   },
   "source": [
    "### 2.2.3 RNN Computation Graph\n",
    "Now that we've defined the model parameters, placeholder variables for the input and output tensors, and initialized weights, it's time to build the TensorFlow computation graph itself! We can define a function `RNN(input_vec, weights, biases)`, which will take in the corresponding placeholders and variables, and return a graph. Remember that we have also imported the TensorFlow `rnn` module. The function [`rnn.BasicLTMCell`](https://www.tensorflow.org/api_docs/python/tf/contrib/rnn/BasicLSTMCell) will be useful. Go through the code below to define the RNN!"
   ]
  },
  {
   "cell_type": "code",
   "execution_count": 0,
   "metadata": {
    "autoscroll": "json-false",
    "collapsed": false,
    "ein.tags": [
     "worksheet-0"
    ],
    "slideshow": {
     "slide_type": "-"
    }
   },
   "outputs": [],
   "source": [
    "def RNN(input_vec, weights, biases):\n",
    "    \"\"\"\n",
    "    @param input_vec: (tf.placeholder) The input vector's placeholder\n",
    "    @param weights: (tf.Variable) The weights variable\n",
    "    @param biases: (tf.Variable) The bias variable\n",
    "    @return: The RNN graph that will take in a tensor list of shape (batch_size, timesteps, input_size)\n",
    "    and output tensors of shape (batch_size, output_size)\n",
    "    \"\"\"\n",
    "    # First, use tf.unstack() to unstack the timesteps into (batch_size, n_input).\n",
    "    # Since we are unstacking the timesteps axis, we want to pass in 1 as the\n",
    "    #  axis argument and timesteps as the length argument\n",
    "    input_vec = tf.unstack(input_vec, timesteps, 1)\n",
    "\n",
    "    '''TODO: Use TensorFlow's rnn module to define a BasicLSTMCell.\n",
    "    Think about the dimensionality of the output state -- how many hidden states will the LSTM cell have?'''\n",
    "    lstm_cell = rnn.BasicLSTMCell(hidden_size)\n",
    "\n",
    "    # Now, we want to get the outputs and states from the LSTM cell.\n",
    "    # We rnn's static_rnn function, as described here:\n",
    "    #  https://www.tensorflow.org/api_docs/python/tf/nn/static_rnn\n",
    "    outputs, states = rnn.static_rnn(lstm_cell, input_vec, dtype=tf.float32)\n",
    "\n",
    "    # Next, let's compute the hidden layer's transformation of the final output of the LSTM.\n",
    "    # We can think of this as the output of our RNN, or as the activations of the final layer.\n",
    "    # Recall that this is just a linear operation: xW + b, where W is the set of weights and b the biases.\n",
    "    '''TODO: Use TensorFlow operations to compute the hidden layer transformation of the final output of the LSTM'''\n",
    "    recurrent_net = tf.matmul(outputs[-1], weights) + biases\n",
    "\n",
    "    # Lastly, we want to predict the next note, so we can use this later to generate a song.\n",
    "    # To do this, we generate a probability distribution over the possible notes,\n",
    "    #  by computing the softmax of the transformed final output of the LSTM.\n",
    "    '''TODO: Use the TensorFlow softmax function to output a probability distribution over possible notes.'''\n",
    "    prediction = tf.nn.softmax(recurrent_net)\n",
    "\n",
    "    # All that's left is to return recurrent_net (the RNN output) and prediction (the softmax output)\n",
    "    return recurrent_net, prediction"
   ]
  },
  {
   "cell_type": "markdown",
   "metadata": {
    "ein.tags": [
     "worksheet-0"
    ],
    "slideshow": {
     "slide_type": "-"
    }
   },
   "source": [
    "### 2.2.4 Loss, Training, and Accuracy Operations\n",
    "We still have to define a few more things for our network. Though we have defined the body of the computation graph, we need a loss operation, a training operation, and an accuracy function:\n",
    "* Loss: We use the **mean** [softmax cross entropy loss](https://www.tensorflow.org/versions/master/api_docs/python/tf/nn/softmax_cross_entropy_with_logits_v2) to measure the probability error between the RNN's prediction of the next note and the true next note.\n",
    "* Training: Once we define the loss operation, we will use an optimizer to minimize the loss.\n",
    "* Accuracy: We will measure accuracy by comparing the most likely next note, as predicted by our network, and the true next note.\n",
    "Now we can go ahead and define these remaining components!"
   ]
  },
  {
   "cell_type": "code",
   "execution_count": 0,
   "metadata": {
    "autoscroll": "json-false",
    "collapsed": false,
    "ein.tags": [
     "worksheet-0"
    ],
    "slideshow": {
     "slide_type": "-"
    }
   },
   "outputs": [],
   "source": [
    "logits, prediction = RNN(input_vec, weights, biases)"
   ]
  },
  {
   "cell_type": "code",
   "execution_count": 0,
   "metadata": {
    "autoscroll": "json-false",
    "collapsed": false,
    "ein.tags": [
     "worksheet-0"
    ],
    "slideshow": {
     "slide_type": "-"
    }
   },
   "outputs": [],
   "source": [
    "# LOSS OPERATION:\n",
    "'''TODO: Use TensorFlow to define the loss operation as the mean softmax cross entropy loss.\n",
    "TensorFlow has built-in functions for you to use. '''\n",
    "loss_op = tf.reduce_mean(tf.nn.softmax_cross_entropy_with_logits(logits=logits, labels=output_vec))"
   ]
  },
  {
   "cell_type": "code",
   "execution_count": 0,
   "metadata": {
    "autoscroll": "json-false",
    "collapsed": false,
    "ein.tags": [
     "worksheet-0"
    ],
    "slideshow": {
     "slide_type": "-"
    }
   },
   "outputs": [],
   "source": [
    "# TRAINING OPERATION:\n",
    "'''TODO: Define an optimizer for the training operation.\n",
    "Remember we have already set the `learning_rate` parameter.'''\n",
    "optimizer = tf.train.RMSPropOptimizer(learning_rate=learning_rate)\n",
    "train_op = optimizer.minimize(loss_op)"
   ]
  },
  {
   "cell_type": "code",
   "execution_count": 0,
   "metadata": {
    "autoscroll": "json-false",
    "collapsed": false,
    "ein.tags": [
     "worksheet-0"
    ],
    "slideshow": {
     "slide_type": "-"
    }
   },
   "outputs": [],
   "source": [
    "# ACCURACY: We compute the accuracy in two steps.\n",
    "\n",
    "# First, we need to determine the predicted next note and the true next note, across the training batch,\n",
    "#  and then determine whether our prediction was correct.\n",
    "# Recall that we defined the placeholder output_vec to contain the true next notes for each song snippet in the batch.\n",
    "'''TODO: Write an expression to obtain the index for the most likely next note predicted by the RNN.'''\n",
    "true_note = tf.argmax(output_vec,1)\n",
    "pred_note = tf.argmax(prediction,1)\n",
    "correct_pred = tf.equal(pred_note, true_note)\n",
    "\n",
    "# Next, we obtain a value for the accuracy.\n",
    "# We cast the values in correct_pred to floats, and use tf.reduce_mean\n",
    "#  to figure out the fraction of these values that are 1's (1 = correct, 0 = incorrect)\n",
    "accuracy_op = tf.reduce_mean(tf.cast(correct_pred, tf.float32))"
   ]
  },
  {
   "cell_type": "code",
   "execution_count": 0,
   "metadata": {
    "autoscroll": "json-false",
    "collapsed": false,
    "ein.tags": [
     "worksheet-0"
    ],
    "slideshow": {
     "slide_type": "-"
    }
   },
   "outputs": [],
   "source": [
    "# INITIALIZER:\n",
    "# Finally we create an initializer to initialize the variables we defined in Section 2.2.2\n",
    "# We use TensorFlow's global_variables_initializer\n",
    "init = tf.global_variables_initializer()"
   ]
  },
  {
   "cell_type": "markdown",
   "metadata": {
    "ein.tags": [
     "worksheet-0"
    ],
    "slideshow": {
     "slide_type": "-"
    }
   },
   "source": [
    "### 2.2.5 Training the RNN\n",
    "We are finally ready to train our RNN model! We will use [`tf.InteractiveSession()`](https://www.tensorflow.org/api_docs/python/tf/InteractiveSession) to execute the graph and train the model.\n",
    "\n",
    "We need to do the following:\n",
    "0. Launch the session\n",
    "1. Initialize the variables\n",
    "2. For each training step:\n",
    "    * Get a training batch:\n",
    "        * `batch_x`: a batch of song snippets\n",
    "        * `batch_y`: the next note for each song snippet in the batch\n",
    "    * Run the training operation over the batch\n",
    "    * If we are on a display step:\n",
    "        * Compute the loss and accuracy and print these metrics"
   ]
  },
  {
   "cell_type": "code",
   "execution_count": 0,
   "metadata": {
    "autoscroll": "json-false",
    "collapsed": false,
    "ein.tags": [
     "worksheet-0"
    ],
    "slideshow": {
     "slide_type": "-"
    }
   },
   "outputs": [],
   "source": [
    "# 1) Launch the session\n",
    "sess = tf.InteractiveSession()\n",
    "\n",
    "# 2) Initialize the variables\n",
    "sess.run(init)\n",
    "\n",
    "# 3) Train!\n",
    "display_step = 100 # how often to display progress\n",
    "for step in range(training_steps):\n",
    "    # GET BATCH\n",
    "    # Add the line to get training data batch (see util.get_batch or whatever for args) FIX THIS !\n",
    "    '''TODO: Fill in the function call to obtain a training data batch.\n",
    "    Hint: See the file util/create_dataset.py.'''\n",
    "    batch_x, batch_y = get_batch(encoded_songs, batch_size, timesteps, input_size, output_size)\n",
    "\n",
    "    # TRAINING: run the training operation with a feed_dict to fill in the placeholders\n",
    "    '''TODO: Feed the training batch into the feed_dict.'''\n",
    "    feed_dict = {\n",
    "                    input_vec: batch_x,\n",
    "                    output_vec: batch_y\n",
    "                }\n",
    "    sess.run(train_op, feed_dict=feed_dict)\n",
    "\n",
    "    # DISPLAY METRICS\n",
    "    if step % display_step == 0 or step == 1:\n",
    "        # LOSS, ACCURACY: Compute the loss and accuracy by running both operations\n",
    "        loss, acc = sess.run([loss_op, accuracy_op], feed_dict=feed_dict)\n",
    "        suffix = \"\\nStep \" + str(step) + \", Minibatch Loss= \" + \\\n",
    "                 \"{:.4f}\".format(loss) + \", Training Accuracy= \" + \\\n",
    "                 \"{:.3f}\".format(acc)\n",
    "\n",
    "        print_progress(step, training_steps, barLength=50, suffix=suffix)"
   ]
  },
  {
   "cell_type": "markdown",
   "metadata": {
    "ein.tags": [
     "worksheet-0"
    ],
    "slideshow": {
     "slide_type": "-"
    }
   },
   "source": [
    "What is a good accuracy level for generating music? An accuracy of 100% means the model has memorized all the songs in the dataset, and can reproduce them at will. An accuracy of 0% means random noise. There must be a happy medium, where the generated music both sounds good and is original. In the words of Gary Marcus, \"Music that is either purely predictable or completely unpredictable is generally considered unpleasant - tedious when it's too predictable, discordant when it's too unpredictable.\" Empirically we've found a good range for this to be `75%` to `90%`, but you should listen to generated output from the next step to see for yourself."
   ]
  },
  {
   "cell_type": "markdown",
   "metadata": {
    "ein.tags": [
     "worksheet-0"
    ],
    "slideshow": {
     "slide_type": "-"
    }
   },
   "source": [
    "## 2.3 Music Generation\n",
    "Now, we can use our trained RNN model to generate some music! When generating music, we'll have to feed the model some sort of seed to get it started (because it can't predict any notes without something to start with!).\n",
    "\n",
    "Once we have a generated seed, we can then iteratively predict each successive note using our trained RNN. More specifically, recall that our RNN outputs a probability distribution over possible successive notes. For inference, we iteratively sample from these distributions, and use our samples to encode a generated song.\n",
    "\n",
    "Then, all we have to do is write it to a file and listen!\n",
    "\n",
    "There are 3 example generated files in the `/generated` folder. We trained a model using the following parameters to generate these examples: `hidden_size=256`, `learning_rate=0.001`, `training_steps=2000`, `batch_size=128`. Try to train a better sounding model using different parameters!"
   ]
  },
  {
   "cell_type": "code",
   "execution_count": 80,
   "metadata": {
    "autoscroll": "json-false",
    "collapsed": false,
    "ein.tags": [
     "worksheet-0"
    ],
    "slideshow": {
     "slide_type": "-"
    }
   },
   "outputs": [
    {
     "name": "stdout",
     "output_type": "stream",
     "text": [
      "saved generated song! seed name: data/How Deep Is Your Love - Chorus.midi\n"
     ]
    },
    {
     "data": {
      "image/png": "[encoded data removed]",
      "text/plain": [
       "<matplotlib.figure.Figure at 0x7f71db743150>"
      ]
     },
     "metadata": {},
     "output_type": "display_data"
    },
    {
     "data": {
      "image/png": "[encoded data removed]",
      "text/plain": [
       "<matplotlib.figure.Figure at 0x7f71db6dc750>"
      ]
     },
     "metadata": {},
     "output_type": "display_data"
    }
   ],
   "source": [
    "GEN_SEED_RANDOMLY = False # Use a random snippet as a seed for generating the new song.\n",
    "if GEN_SEED_RANDOMLY:\n",
    "    ind = np.random.randint(NUM_SONGS)\n",
    "else:\n",
    "    ind = 13 # \"How Deep is Your Love\" by Calvin Harris as a starting seed\n",
    "\n",
    "gen_song = encoded_songs[ind][:timesteps].tolist() # TODO explore different (non-random) seed options\n",
    "\n",
    "# generate music!\n",
    "for i in range(500):\n",
    "    seed = np.array([gen_song[-timesteps:]])\n",
    "    # Use our RNN for prediction using our seed!\n",
    "    '''TODO: Write an expression to use the RNN to get the probability for the next note played based on the seed.\n",
    "    Remember that we are now using the RNN for prediction, not training.'''\n",
    "    predict_probs = sess.run(prediction, feed_dict={input_vec: seed})\n",
    "\n",
    "    # Define output vector for our generated song by sampling from our predicted probability distribution\n",
    "    played_notes = np.zeros(output_size)\n",
    "    '''TODO: Sample from the predicted distribution to determine which note gets played next.\n",
    "    You can use a function from the numpy.random library to do this.\n",
    "    Hint 1: range(x) produces a list of all the numbers from 0 to x\n",
    "    Hint 2: make sure what you pass in has the \"shape\" you expect.'''\n",
    "    p = predict_probs[0]\n",
    "    sampled_note = np.random.choice(range(len(p)), p=p)\n",
    "    played_notes[sampled_note] = 1\n",
    "    gen_song.append(played_notes)\n",
    "\n",
    "noteStateMatrixToMidi(gen_song, name=\"generated/gen_song_0\")\n",
    "noteStateMatrixToMidi(encoded_songs[ind], name=\"generated/base_song_0\")\n",
    "plt.imshow(encoded_songs[ind].T)\n",
    "plt.show()\n",
    "plt.imshow(np.array(gen_song).T)\n",
    "plt.show()\n",
    "print(\"saved generated song! seed name: {}\".format(song_list[ind]))"
   ]
  },
  {
   "cell_type": "code",
   "execution_count": 75,
   "metadata": {
    "autoscroll": "json-false",
    "collapsed": false,
    "ein.tags": [
     "worksheet-0"
    ],
    "slideshow": {
     "slide_type": "-"
    }
   },
   "outputs": [
    {
     "data": {
      "text/plain": [
       "[(0, 'data/Every Time We Touch - Verse.midi'),\n",
       " (1, 'data/Pompeii - Verse.midi'),\n",
       " (2, 'data/I Miss You - Verse.midi'),\n",
       " (3, 'data/Locked Out Of Heaven - Pre Chorus.midi'),\n",
       " (4, 'data/Rolling In The Deep - Pre Chorus.midi'),\n",
       " (5, 'data/Dark Horse - Chorus.midi'),\n",
       " (6, 'data/California Gurls - Verse.midi'),\n",
       " (7, 'data/Dark Horse - Verse.midi'),\n",
       " (8, 'data/California Gurls - Chorus.midi'),\n",
       " (9, 'data/Fix You - Verse.midi'),\n",
       " (10, 'data/Rolling In The Deep - Chorus.midi'),\n",
       " (11, 'data/All The Small Things - Verse.midi'),\n",
       " (12, 'data/Love Story - Chorus.midi'),\n",
       " (13, 'data/How Deep Is Your Love - Chorus.midi'),\n",
       " (14, 'data/Put Your Records On - Chorus.midi'),\n",
       " (15, 'data/Dancing Queen - Verse.midi'),\n",
       " (16, 'data/Chasing Pavements - Chorus.midi'),\n",
       " (17, 'data/Locked Out Of Heaven - Chorus.midi'),\n",
       " (18, 'data/Pompeii - Chorus.midi'),\n",
       " (19, 'data/Hot N Cold - Chorus.midi'),\n",
       " (20, \"data/Baby I'm Yours - Chorus.midi\"),\n",
       " (21, 'data/Irreplaceable - Chorus.midi'),\n",
       " (22, 'data/Genie In A Bottle - Chorus.midi'),\n",
       " (23, 'data/Girl On Fire - Pre Chorus.midi'),\n",
       " (24, 'data/Best Day Of My Life - Chorus.midi'),\n",
       " (25, 'data/Put Your Records On - Verse.midi'),\n",
       " (26, \"data/Let's Dance - Chorus.midi\"),\n",
       " (27, 'data/Die Young - Verse.midi'),\n",
       " (28, 'data/Barbie Girl - Chorus.midi'),\n",
       " (29, 'data/Pompeii - Bridge.midi'),\n",
       " (30, 'data/I Need Your Love - Verse.midi'),\n",
       " (31, 'data/Baby One More Time - Verse.midi'),\n",
       " (32, 'data/Dancing Queen - Chorus.midi'),\n",
       " (33, 'data/Blank Space - Verse.midi'),\n",
       " (34, 'data/Blank Space - Pre Chorus.midi'),\n",
       " (35, 'data/Feel So Close - Verse.midi'),\n",
       " (36, 'data/Girl On Fire - Bridge.midi'),\n",
       " (37, 'data/Barbie Girl - Verse.midi'),\n",
       " (38, 'data/Hot N Cold - Verse.midi'),\n",
       " (39, 'data/Rock That Body - Chorus.midi'),\n",
       " (40, 'data/Mr Saxobeat - Verse.midi'),\n",
       " (41, 'data/I Kissed A Girl - Chorus.midi'),\n",
       " (42, 'data/Outside feat Ellie Goulding - Chorus.midi'),\n",
       " (43, 'data/I Miss You - Chorus.midi'),\n",
       " (44, 'data/Every Time We Touch - Chorus.midi'),\n",
       " (45, 'data/Love Me Harder ft The Weeknd - Verse.midi'),\n",
       " (46, 'data/Can You Feel the Love Tonight - Verse.midi'),\n",
       " (47, 'data/Hot N Cold - Bridge.midi'),\n",
       " (48, 'data/Blank Space - Chorus.midi'),\n",
       " (49, 'data/All The Small Things - Chorus.midi'),\n",
       " (50, 'data/Baby One More Time - Chorus.midi'),\n",
       " (51, 'data/Beautiful Life - Pre Chorus.midi'),\n",
       " (52, 'data/I Gotta Feeling - Chorus.midi'),\n",
       " (53, 'data/Die Young - Chorus.midi'),\n",
       " (54, 'data/Around The World - Chorus.midi'),\n",
       " (55, 'data/Say My Name - Pre Chorus.midi'),\n",
       " (56, 'data/I Kissed A Girl - Verse.midi'),\n",
       " (57, 'data/Around The World - Verse.midi'),\n",
       " (58, 'data/I Want It That Way - Chorus.midi'),\n",
       " (59, 'data/Everybody - Chorus.midi'),\n",
       " (60, 'data/California Gurls - Pre Chorus.midi'),\n",
       " (61, \"data/Don't Trust Me - Chorus.midi\"),\n",
       " (62, 'data/Love Story - Verse.midi'),\n",
       " (63, 'data/Locked Out Of Heaven - Verse.midi'),\n",
       " (64, 'data/Girl On Fire - Verse.midi'),\n",
       " (65, 'data/Can You Feel the Love Tonight - Chorus.midi'),\n",
       " (66, 'data/Feel So Close - Chorus.midi'),\n",
       " (67, \"data/Let's Go - Verse.midi\"),\n",
       " (68, 'data/Pompeii - Intro.midi'),\n",
       " (69, 'data/Girl On Fire - Chorus.midi'),\n",
       " (70, 'data/Love Me Harder ft The Weeknd - Chorus.midi'),\n",
       " (71, 'data/I Need Your Love - Chorus.midi'),\n",
       " (72, 'data/I Kissed A Girl - Bridge.midi')]"
      ]
     },
     "execution_count": 75,
     "metadata": {},
     "output_type": "execute_result"
    }
   ],
   "source": [
    "list(enumerate(song_list))"
   ]
  },
  {
   "cell_type": "markdown",
   "metadata": {
    "ein.tags": [
     "worksheet-0"
    ],
    "slideshow": {
     "slide_type": "-"
    }
   },
   "source": [
    "## 2.4 What If We Didn't Train?\n",
    "To understand the impact of training and to see the progress of the network, let's see what the music sounds like with an untrained model.\n",
    "\n",
    "To do this, set `training_steps = 0`, rerun the training cell above, and rerun the inference pipeline to generate a song with the untrained model."
   ]
  },
  {
   "cell_type": "markdown",
   "metadata": {
    "ein.tags": [
     "worksheet-0"
    ],
    "slideshow": {
     "slide_type": "-"
    }
   },
   "source": [
    "## 2.5 Improving the Model\n",
    "\n",
    "Congrats on making your first sequence model in tensorflow! It's a pretty big accomplishment, and hopefully you have some sweet tunes to show for it.\n",
    "\n",
    "If you want to go further, here are some suggestions for improvements you can make to the model. *Please be advised that these are entirely optional and staff will only be helping with the lab portion of the assignment.*\n",
    "1. **Use a different dataset.** If pop songs aren't your thing, or you want to try training on something else, all you need to do is replace the midi files located in your `/data` folder.\n",
    "2. **Restrict the model output.** You may notice that even if you trained your model for a long time, the model still outputs really high/low notes from time to time. What's happening here is that although the probabilities of these notes appearing are very low, they are not 0 and therefore are still occassionally sampled by the model. To fix this, you could resample the probabilities to only be from notes close to the previous note, or keep sampling until you get a note close to the previous note.\n",
    "3. **Augment the dataset.** Maybe you don't think the dataset we've given you has enough songs, or that the genre of dataset you want to use is too small. An easy way to augment the dataset is by transposing the values in `batch_x` and `batch_y` such that they are randomly shifted up or down by the same amount, resulting in a different pitch. This helps you train a more robust model that can better learn how our perception of music is time dependent and space invariant. In other words, it depends more on the notes' relative position to each other rather thanp the pitch of the song as a whole.\n",
    "4. **Tune hyperparameters.** As we discussed in today's lectures, the hyperparameters used for training, such as the learning rate, number of hidden units, and the type of RNN cell used, can make a significant impact on the output. Try playing around with hyperparameters to see if you can improve the results.\n",
    "5. **Different optimizers.** In Lecture we learned that different optimizers can make a huge difference in converging to a nice solution during training. Try some different ones that Tensorflow has to offer and see what works best.\n",
    "5. **[advanced] Support polyphonic music.** If you look at the `make_one_hot_notes` function in `create_dataset.py`, you can see that indeed we chose to only take the melody from each song (assumed to be the highest played note at each time step). If you want to go beyond playing one note at a time, you can make changes to how the songs are encoded into matrices, along with how the model is structured to train and generate. A common task in deep learning with music is training a model on Bach chorales and getting it to understand the notion of chords in music.\n",
    "\n"
   ]
  }
 ],
 "metadata": {
  "kernelspec": {
   "display_name": "Python 2",
   "name": "python2"
  },
  "language_info": {
   "codemirror_mode": {
    "name": "ipython",
    "version": 2
   },
   "file_extension": ".py",
   "mimetype": "text/x-python",
   "name": "python",
   "nbconvert_exporter": "python",
   "pygments_lexer": "ipython2",
   "version": "2.7.12"
  },
  "name": "Lab1_Part2.ipynb"
 },
 "nbformat": 4,
 "nbformat_minor": 2
}
